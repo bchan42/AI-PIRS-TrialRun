{
 "cells": [
  {
   "cell_type": "markdown",
   "metadata": {},
   "source": [
    "# Ruled-Based Extraction for Structured Document"
   ]
  },
  {
   "cell_type": "markdown",
   "metadata": {},
   "source": [
    "Notes about document\n",
    "- want to extract Goals, Objectives, Policies\n",
    "\n",
    "- formatting: \n",
    "    - GOAL #(number)\n",
    "    - OBJECTIVE (ACRONYM)-(number):\n",
    "    - Policy (ACRONYM)-(num)-(num):\n",
    "    - DevStd (ACRONYM)-(num)(letter)\n",
    "\n",
    "\n",
    "\n",
    "- acronyms: EGV, LUR-EGV, LUDS-EGV, LUC-EGV, LUA-EGV, SF-EGV, FIRE-EGV, POL-EGV, etc."
   ]
  },
  {
   "cell_type": "code",
   "execution_count": 1,
   "metadata": {},
   "outputs": [],
   "source": [
    "# import libraries/tools needed\n",
    "\n",
    "import re                # used for pattern matching (regex) (like \"Goal #1\", \"Policy EGV-1.1\", etc.)\n",
    "import pdfplumber        # used to read text from PDF files\n",
    "import csv               # used to save extracted data to a spreadsheet"
   ]
  },
  {
   "cell_type": "code",
   "execution_count": 2,
   "metadata": {},
   "outputs": [],
   "source": [
    "# define the types of phrases we’re looking for in the document\n",
    "# patterns to help identify where goals, objectives, policies, and standards begin\n",
    "\n",
    "goal_pattern = re.compile(r\"GOAL\\s?#\\d+\", re.IGNORECASE)  # looks for \"GOAL #1\", \"GOAL #2\", etc.\n",
    "objective_pattern = re.compile(r\"OBJECTIVE\\s+[A-Z\\-]+-\\d+\", re.IGNORECASE)  # looks for objectives like \"OBJECTIVE EGV-1\"\n",
    "policy_pattern = re.compile(r\"Policy\\s+[A-Z\\-]+-\\d+\\.\\d+\", re.IGNORECASE)  # matches \"Policy EGV-1.1\"\n",
    "devstd_pattern = re.compile(r\"DevStd\\s+[A-Z\\-]+-\\d+[a-z]\", re.IGNORECASE)  # matches \"DevStd LUDS-EGV-1a\""
   ]
  },
  {
   "cell_type": "code",
   "execution_count": 3,
   "metadata": {},
   "outputs": [],
   "source": [
    "# list that will collect all the extracted content (Goals, Objectives, Policies, DevStd)\n",
    "\n",
    "extracted = []"
   ]
  },
  {
   "cell_type": "code",
   "execution_count": 4,
   "metadata": {},
   "outputs": [],
   "source": [
    "# read in pdf and extract policies\n",
    "\n",
    "with pdfplumber.open(\"01 Eastern Goleta Valley Community Plan (PDF) (1).pdf\") as pdf:\n",
    "    for page_num, page in enumerate(pdf.pages, start=1): # read pdf page by page\n",
    "        text = page.extract_text()\n",
    "        if not text:\n",
    "            continue  # skip pages with no text\n",
    "\n",
    "        lines = text.split(\"\\n\")  # break page into lines\n",
    "\n",
    "        # variables to track current content being processed\n",
    "        current_goal = None\n",
    "        current_objective = None\n",
    "        current_policy = None\n",
    "        current_devstd = None\n",
    "\n",
    "        temp_text = \"\"      # temporary storage for accumulating text\n",
    "        context_type = None # stores whether we’re inside a goal, objective, etc.\n",
    "\n",
    "        for line in lines:\n",
    "            line = line.strip()\n",
    "\n",
    "            # --- detect new GOAL ---\n",
    "            if goal_pattern.match(line):\n",
    "                if temp_text and context_type:\n",
    "                    # save the previous sesction before starting a new one\n",
    "                    extracted.append({\n",
    "                        \"page\": page_num,\n",
    "                        \"type\": context_type,\n",
    "                        \"id\": current_goal or current_objective or current_policy or current_devstd,\n",
    "                        \"text\": temp_text.strip()\n",
    "                    })\n",
    "                current_goal = line\n",
    "                temp_text = line\n",
    "                context_type = \"Goal\"\n",
    "                continue\n",
    "\n",
    "            # --- detect new OBJECTIVE ---\n",
    "            elif objective_pattern.match(line):\n",
    "                if temp_text and context_type:\n",
    "                    extracted.append({\n",
    "                        \"page\": page_num,\n",
    "                        \"type\": context_type,\n",
    "                        \"id\": current_goal or current_objective or current_policy or current_devstd,\n",
    "                        \"text\": temp_text.strip()\n",
    "                    })\n",
    "                current_objective = line\n",
    "                temp_text = line\n",
    "                context_type = \"Objective\"\n",
    "                continue\n",
    "\n",
    "            # --- detect new POLICY ---\n",
    "            elif policy_pattern.match(line):\n",
    "                if temp_text and context_type:\n",
    "                    extracted.append({\n",
    "                        \"page\": page_num,\n",
    "                        \"type\": context_type,\n",
    "                        \"id\": current_goal or current_objective or current_policy or current_devstd,\n",
    "                        \"text\": temp_text.strip()\n",
    "                    })\n",
    "                current_policy = line\n",
    "                temp_text = line\n",
    "                context_type = \"Policy\"\n",
    "                continue\n",
    "\n",
    "            # --- detect new DEVELOPMENT STANDARD ---\n",
    "            elif devstd_pattern.match(line):\n",
    "                if temp_text and context_type:\n",
    "                    extracted.append({\n",
    "                        \"page\": page_num,\n",
    "                        \"type\": context_type,\n",
    "                        \"id\": current_goal or current_objective or current_policy or current_devstd,\n",
    "                        \"text\": temp_text.strip()\n",
    "                    })\n",
    "                current_devstd = line\n",
    "                temp_text = line\n",
    "                context_type = \"DevStd\"\n",
    "                continue\n",
    "\n",
    "            # --- continue collecting multi-line text ---\n",
    "            elif context_type:\n",
    "                temp_text += \" \" + line  # add this line to ongoing text\n",
    "                if line.endswith(\".\"):  # if it ends with a period, save it\n",
    "                    extracted.append({\n",
    "                        \"page\": page_num,\n",
    "                        \"type\": context_type,\n",
    "                        \"id\": current_goal or current_objective or current_policy or current_devstd,\n",
    "                        \"text\": temp_text.strip()\n",
    "                    })\n",
    "                    # reset for next block\n",
    "                    temp_text = \"\"\n",
    "                    context_type = None\n",
    "                    current_goal = current_objective = current_policy = current_devstd = None\n",
    "\n",
    "        # === save anything left at the end of the page ===\n",
    "        if temp_text and context_type:\n",
    "            extracted.append({\n",
    "                \"page\": page_num,\n",
    "                \"type\": context_type,\n",
    "                \"id\": current_goal or current_objective or current_policy or current_devstd,\n",
    "                \"text\": temp_text.strip()\n",
    "            })"
   ]
  },
  {
   "cell_type": "code",
   "execution_count": 5,
   "metadata": {},
   "outputs": [
    {
     "name": "stdout",
     "output_type": "stream",
     "text": [
      "Saved to 'egv_plan_extracted.csv'\n"
     ]
    }
   ],
   "source": [
    "# save what we found to a spreadsheet file\n",
    "\n",
    "with open(\"egv_plan_extracted.csv\", \"w\", newline=\"\", encoding=\"utf-8\") as f:\n",
    "    writer = csv.DictWriter(f, fieldnames=[\"page\", \"type\", \"id\", \"text\"])\n",
    "    writer.writeheader()\n",
    "    for row in extracted:\n",
    "        writer.writerow(row)\n",
    "\n",
    "print(\"Saved to 'egv_plan_extracted.csv'\")"
   ]
  }
 ],
 "metadata": {
  "kernelspec": {
   "display_name": "Python 3",
   "language": "python",
   "name": "python3"
  },
  "language_info": {
   "codemirror_mode": {
    "name": "ipython",
    "version": 3
   },
   "file_extension": ".py",
   "mimetype": "text/x-python",
   "name": "python",
   "nbconvert_exporter": "python",
   "pygments_lexer": "ipython3",
   "version": "3.12.2"
  }
 },
 "nbformat": 4,
 "nbformat_minor": 2
}
